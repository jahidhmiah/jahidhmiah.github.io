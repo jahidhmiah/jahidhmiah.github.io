{
 "cells": [
  {
   "cell_type": "code",
   "execution_count": 12,
   "metadata": {},
   "outputs": [],
   "source": [
    "import pandas as pd\n",
    "import numpy as np\n",
    "import json\n",
    "import random as rnd\n",
    "import string\n",
    "import datetime\n",
    "from dateutil.relativedelta import relativedelta\n",
    "import zipfile\n",
    "import os"
   ]
  },
  {
   "cell_type": "markdown",
   "metadata": {},
   "source": [
    "Create Empty Data Frames for All CSVs We want."
   ]
  },
  {
   "cell_type": "code",
   "execution_count": 13,
   "metadata": {},
   "outputs": [],
   "source": [
    "Leads = pd.DataFrame()\n",
    "Opportunities = pd.DataFrame()\n",
    "Accounts = pd.DataFrame()\n",
    "Users = pd.DataFrame()\n",
    "Campaigns = pd.DataFrame()\n",
    "CampaignMember = pd.DataFrame()"
   ]
  },
  {
   "cell_type": "code",
   "execution_count": 14,
   "metadata": {},
   "outputs": [],
   "source": [
    "#Function to return the probability of an event happening in a given day\n",
    "def dayprob(pMin, pMax, dMin, dMax):\n",
    "    return 1.0 - (1.0 - rnd.uniform(pMin, pMax)) ** (1.0 / rnd.randint(dMin, dMax))"
   ]
  },
  {
   "cell_type": "code",
   "execution_count": 15,
   "metadata": {},
   "outputs": [
    {
     "data": {
      "text/html": [
       "<div>\n",
       "<style scoped>\n",
       "    .dataframe tbody tr th:only-of-type {\n",
       "        vertical-align: middle;\n",
       "    }\n",
       "\n",
       "    .dataframe tbody tr th {\n",
       "        vertical-align: top;\n",
       "    }\n",
       "\n",
       "    .dataframe thead th {\n",
       "        text-align: right;\n",
       "    }\n",
       "</style>\n",
       "<table border=\"1\" class=\"dataframe\">\n",
       "  <thead>\n",
       "    <tr style=\"text-align: right;\">\n",
       "      <th></th>\n",
       "      <th>Name</th>\n",
       "      <th>Min</th>\n",
       "      <th>Max</th>\n",
       "    </tr>\n",
       "  </thead>\n",
       "  <tbody>\n",
       "    <tr>\n",
       "      <th>0</th>\n",
       "      <td>Sales</td>\n",
       "      <td>0.05</td>\n",
       "      <td>0.10</td>\n",
       "    </tr>\n",
       "    <tr>\n",
       "      <th>1</th>\n",
       "      <td>Organic</td>\n",
       "      <td>0.15</td>\n",
       "      <td>0.25</td>\n",
       "    </tr>\n",
       "    <tr>\n",
       "      <th>2</th>\n",
       "      <td>Event</td>\n",
       "      <td>0.10</td>\n",
       "      <td>0.20</td>\n",
       "    </tr>\n",
       "    <tr>\n",
       "      <th>3</th>\n",
       "      <td>Content</td>\n",
       "      <td>0.10</td>\n",
       "      <td>0.20</td>\n",
       "    </tr>\n",
       "    <tr>\n",
       "      <th>4</th>\n",
       "      <td>Partnership</td>\n",
       "      <td>0.25</td>\n",
       "      <td>0.40</td>\n",
       "    </tr>\n",
       "    <tr>\n",
       "      <th>5</th>\n",
       "      <td>Referral</td>\n",
       "      <td>0.25</td>\n",
       "      <td>0.40</td>\n",
       "    </tr>\n",
       "  </tbody>\n",
       "</table>\n",
       "</div>"
      ],
      "text/plain": [
       "          Name   Min   Max\n",
       "0        Sales  0.05  0.10\n",
       "1      Organic  0.15  0.25\n",
       "2        Event  0.10  0.20\n",
       "3      Content  0.10  0.20\n",
       "4  Partnership  0.25  0.40\n",
       "5     Referral  0.25  0.40"
      ]
     },
     "execution_count": 15,
     "metadata": {},
     "output_type": "execute_result"
    }
   ],
   "source": [
    "Lead_Source_Rules = pd.read_csv(\"Rules_Tables/Lead_Source.csv\")\n",
    "Lead_Source_Rules"
   ]
  },
  {
   "cell_type": "code",
   "execution_count": 16,
   "metadata": {},
   "outputs": [
    {
     "data": {
      "text/html": [
       "<div>\n",
       "<style scoped>\n",
       "    .dataframe tbody tr th:only-of-type {\n",
       "        vertical-align: middle;\n",
       "    }\n",
       "\n",
       "    .dataframe tbody tr th {\n",
       "        vertical-align: top;\n",
       "    }\n",
       "\n",
       "    .dataframe thead th {\n",
       "        text-align: right;\n",
       "    }\n",
       "</style>\n",
       "<table border=\"1\" class=\"dataframe\">\n",
       "  <thead>\n",
       "    <tr style=\"text-align: right;\">\n",
       "      <th></th>\n",
       "      <th>Name</th>\n",
       "      <th>Min</th>\n",
       "      <th>Max</th>\n",
       "      <th>Randomizer</th>\n",
       "    </tr>\n",
       "  </thead>\n",
       "  <tbody>\n",
       "    <tr>\n",
       "      <th>0</th>\n",
       "      <td>Sales</td>\n",
       "      <td>0.05</td>\n",
       "      <td>0.10</td>\n",
       "      <td>0.001653</td>\n",
       "    </tr>\n",
       "    <tr>\n",
       "      <th>1</th>\n",
       "      <td>Organic</td>\n",
       "      <td>0.15</td>\n",
       "      <td>0.25</td>\n",
       "      <td>0.003832</td>\n",
       "    </tr>\n",
       "    <tr>\n",
       "      <th>2</th>\n",
       "      <td>Event</td>\n",
       "      <td>0.10</td>\n",
       "      <td>0.20</td>\n",
       "      <td>0.002263</td>\n",
       "    </tr>\n",
       "    <tr>\n",
       "      <th>3</th>\n",
       "      <td>Content</td>\n",
       "      <td>0.10</td>\n",
       "      <td>0.20</td>\n",
       "      <td>0.001379</td>\n",
       "    </tr>\n",
       "    <tr>\n",
       "      <th>4</th>\n",
       "      <td>Partnership</td>\n",
       "      <td>0.25</td>\n",
       "      <td>0.40</td>\n",
       "      <td>0.007133</td>\n",
       "    </tr>\n",
       "    <tr>\n",
       "      <th>5</th>\n",
       "      <td>Referral</td>\n",
       "      <td>0.25</td>\n",
       "      <td>0.40</td>\n",
       "      <td>0.004099</td>\n",
       "    </tr>\n",
       "  </tbody>\n",
       "</table>\n",
       "</div>"
      ],
      "text/plain": [
       "          Name   Min   Max  Randomizer\n",
       "0        Sales  0.05  0.10    0.001653\n",
       "1      Organic  0.15  0.25    0.003832\n",
       "2        Event  0.10  0.20    0.002263\n",
       "3      Content  0.10  0.20    0.001379\n",
       "4  Partnership  0.25  0.40    0.007133\n",
       "5     Referral  0.25  0.40    0.004099"
      ]
     },
     "execution_count": 16,
     "metadata": {},
     "output_type": "execute_result"
    }
   ],
   "source": [
    "Lead_Source_Rules['Randomizer'] = Lead_Source_Rules.apply(lambda x: dayprob(x['Min'], x['Max'], 30, 100), axis = 1)\n",
    "Lead_Source_Rules"
   ]
  },
  {
   "cell_type": "code",
   "execution_count": 17,
   "metadata": {},
   "outputs": [
    {
     "ename": "NameError",
     "evalue": "name 'team' is not defined",
     "output_type": "error",
     "traceback": [
      "\u001b[0;31m---------------------------------------------------------------------------\u001b[0m",
      "\u001b[0;31mNameError\u001b[0m                                 Traceback (most recent call last)",
      "Cell \u001b[0;32mIn[17], line 6\u001b[0m\n\u001b[1;32m      4\u001b[0m GrowthVariable \u001b[38;5;241m=\u001b[39m \u001b[38;5;241m1\u001b[39m \n\u001b[1;32m      5\u001b[0m SalesLeadsToday \u001b[38;5;241m=\u001b[39m \u001b[38;5;241m0\u001b[39m\n\u001b[0;32m----> 6\u001b[0m \u001b[38;5;28;01mfor\u001b[39;00m bdr \u001b[38;5;129;01min\u001b[39;00m \u001b[43mteam\u001b[49m:\n\u001b[1;32m      7\u001b[0m      SalesLeadsToday \u001b[38;5;241m=\u001b[39m SalesLeadsToday \u001b[38;5;241m+\u001b[39m \u001b[38;5;28mround\u001b[39m(bdr[\u001b[38;5;124m'\u001b[39m\u001b[38;5;124mRating\u001b[39m\u001b[38;5;124m'\u001b[39m] \u001b[38;5;241m*\u001b[39m random\u001b[38;5;241m.\u001b[39mrandint(\u001b[38;5;241m10\u001b[39m,\u001b[38;5;241m30\u001b[39m),\u001b[38;5;241m0\u001b[39m)\n",
      "\u001b[0;31mNameError\u001b[0m: name 'team' is not defined"
     ]
    }
   ],
   "source": [
    "#Suedo Code\n",
    "#building Lead pipeline \n",
    "#show how the company is growing over time. resulting in increases across the board. \n",
    "GrowthVariable = 1 \n",
    "SalesLeadsToday = 0\n",
    "for bdr in team:\n",
    "     SalesLeadsToday = SalesLeadsToday + round(bdr['Rating'] * rnd.randint(10,30),0)\n"
   ]
  },
  {
   "cell_type": "code",
   "execution_count": null,
   "metadata": {},
   "outputs": [],
   "source": [
    "#Generated Todays New Leads\n",
    "def generateDailyLeads(today, growth, lasttrigger):\n",
    "    organic = 0\n",
    "    content = 0\n",
    "    lastContentTrigger = today - lasttrigger['Content']\n",
    "\n",
    "    if today.weekday() < 5:\n",
    "        #find how many organic lead on this given weekday\n",
    "        organic = round(rnd.randint(15,25) * growth, 0)\n",
    "        #find if content was released recently, if not see if one is getting released, depending on which takes place add leads acordingly\n",
    "        if lastContentTrigger.days <=5:\n",
    "            content = round((rnd.randint(10,30) * growth ) - (2*lastContentTrigger.days), 0)\n",
    "        if rnd.uniform(0,1) <= dayprob(0.25, 0.50, 30, 30):\n",
    "            content = round(rnd.randint(10,30) * growth, 0)\n",
    "            lasttrigger['Content'] = today\n",
    "             \n",
    "    else:\n",
    "        organic = round(rnd.randint(5,15) * growth, 0)\n",
    "        if lastContentTrigger.days <=5:\n",
    "            content = round(rnd.randint(2,5) * growth, 0)\n",
    "    \n",
    "    \n"
   ]
  }
 ],
 "metadata": {
  "kernelspec": {
   "display_name": "pythonnp",
   "language": "python",
   "name": "python3"
  },
  "language_info": {
   "codemirror_mode": {
    "name": "ipython",
    "version": 3
   },
   "file_extension": ".py",
   "mimetype": "text/x-python",
   "name": "python",
   "nbconvert_exporter": "python",
   "pygments_lexer": "ipython3",
   "version": "3.10.13"
  }
 },
 "nbformat": 4,
 "nbformat_minor": 2
}
