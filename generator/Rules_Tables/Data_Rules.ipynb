{
 "cells": [
  {
   "cell_type": "code",
   "execution_count": 1,
   "metadata": {},
   "outputs": [],
   "source": [
    "#Import packages\n",
    "import pandas as pd \n",
    "import numpy as np"
   ]
  },
  {
   "cell_type": "code",
   "execution_count": null,
   "metadata": {},
   "outputs": [],
   "source": [
    "#Create columns and data I want to hold for radom rules. \n",
    "columns = ['Name', 'Type', 'Min', 'Max']\n",
    "data = [\n",
    "        ['Sales','Lead Source', 0.05, 0.1], \n",
    "        ['Organic', 'Lead Source',0.15, ,0.25],\n",
    "        ['Event', 'Lead Source',0.1,0.2],\n",
    "        ['Content', 'Lead Source',0.1,0.2],\n",
    "        ['Partnership', 'Lead Source',0.25,0.40],\n",
    "        ['Referral', 'Lead Source',0.25,0.40],\n",
    "        ]"
   ]
  }
 ],
 "metadata": {
  "kernelspec": {
   "display_name": "pythonnp",
   "language": "python",
   "name": "python3"
  },
  "language_info": {
   "codemirror_mode": {
    "name": "ipython",
    "version": 3
   },
   "file_extension": ".py",
   "mimetype": "text/x-python",
   "name": "python",
   "nbconvert_exporter": "python",
   "pygments_lexer": "ipython3",
   "version": "3.10.13"
  }
 },
 "nbformat": 4,
 "nbformat_minor": 2
}
